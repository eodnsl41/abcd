{
  "nbformat": 4,
  "nbformat_minor": 0,
  "metadata": {
    "colab": {
      "provenance": [],
      "authorship_tag": "ABX9TyPFIv2D6g4WH1kcq5dYAsd7",
      "include_colab_link": true
    },
    "kernelspec": {
      "name": "python3",
      "display_name": "Python 3"
    },
    "language_info": {
      "name": "python"
    }
  },
  "cells": [
    {
      "cell_type": "markdown",
      "metadata": {
        "id": "view-in-github",
        "colab_type": "text"
      },
      "source": [
        "<a href=\"https://colab.research.google.com/github/eodnsl41/abcd/blob/main/Class_prep_02_type_list.ipynb\" target=\"_parent\"><img src=\"https://colab.research.google.com/assets/colab-badge.svg\" alt=\"Open In Colab\"/></a>"
      ]
    },
    {
      "cell_type": "code",
      "execution_count": 4,
      "metadata": {
        "id": "NS-z8-vGN5eS",
        "colab": {
          "base_uri": "https://localhost:8080/"
        },
        "outputId": "9e8487e6-540e-45c5-9a9d-4c43fee3b264"
      },
      "outputs": [
        {
          "output_type": "stream",
          "name": "stdout",
          "text": [
            "130\n"
          ]
        }
      ],
      "source": [
        "width = 10\n",
        "height = 120\n",
        "area = width + height\n",
        "print (area)"
      ]
    },
    {
      "cell_type": "code",
      "source": [
        "x = int (input ('첫번째 정수:'))\n",
        "y = int (input ('두번째 정수:'))\n",
        "sum = x+ y\n",
        "#diff = x-y\n",
        "print ('합은', sum)\n"
      ],
      "metadata": {
        "id": "eVgGUObhR0pv",
        "colab": {
          "base_uri": "https://localhost:8080/"
        },
        "outputId": "97f9ed51-4133-4703-8859-91012c1bdfcf"
      },
      "execution_count": 3,
      "outputs": [
        {
          "output_type": "stream",
          "name": "stdout",
          "text": [
            "첫번째 정수:12\n",
            "두번째 정수:23\n",
            "합은 35\n"
          ]
        }
      ]
    },
    {
      "cell_type": "code",
      "source": [
        "list1 = [12, 'dog', 180, 14]\n",
        "list2 = [['seoul',10], ['paris', 12], ['london', 20]]\n",
        "print (list1[0],'\\t',list1[1],'\\n',list1[2],'\\t',type(list2))"
      ],
      "metadata": {
        "id": "dcJkKdexSB79",
        "colab": {
          "base_uri": "https://localhost:8080/"
        },
        "outputId": "27f2cb0c-39db-4c1e-fe83-deab0d9f2240"
      },
      "execution_count": 1,
      "outputs": [
        {
          "output_type": "stream",
          "name": "stdout",
          "text": [
            "12 \t dog \n",
            " 180 \t <class 'list'>\n"
          ]
        }
      ]
    },
    {
      "cell_type": "code",
      "source": [
        "capitals = {\"Korea\":\"Seoul\",\"USA\":\"Washington\", \"UK\":\"London\"}\n",
        "for key, value in capitals.items():\n",
        "    print (key, \":\", value)"
      ],
      "metadata": {
        "colab": {
          "base_uri": "https://localhost:8080/"
        },
        "id": "s68mqZcrTXcb",
        "outputId": "d19f6e06-0e14-4c35-b05e-7666f860c875"
      },
      "execution_count": 6,
      "outputs": [
        {
          "output_type": "stream",
          "name": "stdout",
          "text": [
            "Korea : Seoul\n",
            "USA : Washington\n",
            "UK : London\n"
          ]
        }
      ]
    },
    {
      "cell_type": "code",
      "source": [
        "class Car:\n",
        "    def __init__(self, speed, color, manufacturer):\n",
        "        self.speed = speed\n",
        "        self.color = color\n",
        "        self.manufacturer = manufacturer\n",
        "\n",
        "    def drive(self):\n",
        "        self.speed = 120\n",
        "\n",
        "myCar = Car(0, 'red', 'benz')\n"
      ],
      "metadata": {
        "id": "1pbo7GJTVU8n"
      },
      "execution_count": 10,
      "outputs": []
    },
    {
      "cell_type": "code",
      "source": [
        "x,y = 1, 0\n",
        "try : \n",
        "    z= x /y\n",
        "except ZeroDivisionError:\n",
        "    print(\"0으로 나누어 지지 않는 case\")"
      ],
      "metadata": {
        "colab": {
          "base_uri": "https://localhost:8080/"
        },
        "id": "sEMTL0fEWJFa",
        "outputId": "ede09be8-0303-48aa-80e9-8e790e788093"
      },
      "execution_count": 12,
      "outputs": [
        {
          "output_type": "stream",
          "name": "stdout",
          "text": [
            "0으로 나누어 지지 않는 case\n"
          ]
        }
      ]
    },
    {
      "cell_type": "code",
      "source": [
        "import keyword\n",
        "print(keyword.kwlist)"
      ],
      "metadata": {
        "colab": {
          "base_uri": "https://localhost:8080/"
        },
        "id": "CrZGQsPhZpAY",
        "outputId": "dd063abf-e118-4bfc-a0ef-5baa78f6177a"
      },
      "execution_count": 14,
      "outputs": [
        {
          "output_type": "stream",
          "name": "stdout",
          "text": [
            "['False', 'None', 'True', 'and', 'as', 'assert', 'async', 'await', 'break', 'class', 'continue', 'def', 'del', 'elif', 'else', 'except', 'finally', 'for', 'from', 'global', 'if', 'import', 'in', 'is', 'lambda', 'nonlocal', 'not', 'or', 'pass', 'raise', 'return', 'try', 'while', 'with', 'yield']\n"
          ]
        }
      ]
    },
    {
      "cell_type": "code",
      "source": [],
      "metadata": {
        "id": "JvfURGL4bSAX"
      },
      "execution_count": null,
      "outputs": []
    }
  ]
}